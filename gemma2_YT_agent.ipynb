{
 "cells": [
  {
   "cell_type": "markdown",
   "id": "2cfbb549-aac6-40de-9cd0-716bf00b4ffb",
   "metadata": {},
   "source": [
    "# Gemma 2 9B - Local YouTube Reflection Agent\n",
    "\n",
    "Google recently released [Gemma 2](https://blog.google/technology/developers/google-gemma-2/), a new open source model in two forms, [27B](https://huggingface.co/google/gemma-2-27b) and [9B](https://huggingface.co/google/gemma-2-9b) parameters. The 9B model boasts impressive metrics, with claims of being the best <15B parameter model at the time of release. Technical report [available here](https://storage.googleapis.com/deepmind-media/gemma/gemma-2-report.pdf).\n",
    "\n",
    "Let's put this to the test, and create a Local Gemma 2 9B Reflection Agent with a task that will focus on analysis, generation, and self correction to assess how well this model performs!\n",
    "\n",
    "**The Gemma 2 9B YouTube Title Agent**\n",
    "1. Analyzes a YouTuber's profile and videos\n",
    "2. Generates a report about the YouTuber's style and approach\n",
    "3. Applies these learnings to generate video titles on a new topic\n",
    "4. Reflects at each step, either accepting the output or regenerating with additional instructions\n",
    "\n",
    "![x](gemma29b_ytagent.png)"
   ]
  },
  {
   "cell_type": "markdown",
   "id": "3fabffe5-cee7-4ae5-8478-69a99649474f",
   "metadata": {},
   "source": [
    "---"
   ]
  },
  {
   "cell_type": "markdown",
   "id": "046396b4-2639-4616-aecb-33867ab81ced",
   "metadata": {},
   "source": [
    "## Dependencies\n",
    "\n",
    "To run Gemma 2 9b we'll be using [Ollama](https://ollama.com/) integrations with LangChain. For more details about getting up and running with Ollama, watch my [short video guide here](https://youtu.be/-lnR9oU0Jl8)!\n",
    "\n",
    "Run `ollama pull gemma2` in your CLI to download Gemma2 9B before running these steps, additional Gemma configurations outlined on the [Ollama model page](https://ollama.com/library/gemma2)."
   ]
  },
  {
   "cell_type": "code",
   "execution_count": 1,
   "id": "da6f57ca-e4ef-4f29-be19-0b7879c78f8c",
   "metadata": {},
   "outputs": [],
   "source": [
    "# Imports\n",
    "from googleapiclient.discovery import build\n",
    "from googleapiclient.errors import HttpError\n",
    "# Core LangChain\n",
    "from langchain.prompts import PromptTemplate\n",
    "from langchain_core.output_parsers import JsonOutputParser, StrOutputParser\n",
    "from langchain_community.chat_models import ChatOllama\n",
    "# LangGraph\n",
    "from langgraph.graph import END, StateGraph\n",
    "from typing_extensions import TypedDict\n",
    "# Additional stuff for loading and displaying output\n",
    "from IPython.display import display, Markdown, Image\n",
    "import json\n",
    "import os"
   ]
  },
  {
   "cell_type": "markdown",
   "id": "24139385-f571-446d-a840-a05949bb4a8f",
   "metadata": {},
   "source": [
    "---\n",
    "## Pulling Data from YouTube Data API\n",
    "\n",
    "We'll be using Google's free [YouTube Data API](https://developers.google.com/youtube/v3) to pull relevant details about a channel, including channel statistics, recent videos, and video details.\n",
    "\n",
    "Check out their [documentation here](https://developers.google.com/youtube/v3/getting-started) to see how you can set up an account and get an API key."
   ]
  },
  {
   "cell_type": "code",
   "execution_count": 3,
   "id": "5653933b-8a36-4928-9840-40ed80d2a793",
   "metadata": {
    "scrolled": true
   },
   "outputs": [
    {
     "data": {
      "text/plain": [
       "{'Channel Title': 'Ludwig',\n",
       " 'Description': 'if ur reading this please click subscribe :)\\n',\n",
       " 'Subscribers': '5910000',\n",
       " 'Total Views': '2289396167',\n",
       " 'Total Videos': '1974',\n",
       " 'Channel Topics': ['https://en.wikipedia.org/wiki/Action_game',\n",
       "  'https://en.wikipedia.org/wiki/Role-playing_video_game',\n",
       "  'https://en.wikipedia.org/wiki/Video_game_culture',\n",
       "  'https://en.wikipedia.org/wiki/Action-adventure_game'],\n",
       " 'Keywords': 'Ludwig Ahgren',\n",
       " 'Recent Videos': [{'Title': 'MOGUL MONEY LIVE!',\n",
       "   'Views': '1494900',\n",
       "   'Likes': '63921',\n",
       "   'Comments': '1093'},\n",
       "  {'Title': '🔴 DAY 1 OF BEING ON TIME EVERYDAY IN JULY | VALO IN-HOUSE with friends :)',\n",
       "   'Views': '162479',\n",
       "   'Likes': '3103',\n",
       "   'Comments': '53'},\n",
       "  {'Title': \"I'm NOT the World's Fastest Masher\",\n",
       "   'Views': '654051',\n",
       "   'Likes': '50837',\n",
       "   'Comments': '412'},\n",
       "  {'Title': '🔴 NEW MR BEAST VIDEO | PROVING I AM BETTER AT VIDEO GAMES THAN CHAT',\n",
       "   'Views': '199111',\n",
       "   'Likes': '4202',\n",
       "   'Comments': '73'},\n",
       "  {'Title': 'Can I Beat a Child Prodigy at Ping Pong? | Unpaid Intern',\n",
       "   'Views': '699333',\n",
       "   'Likes': '33027',\n",
       "   'Comments': '1260'},\n",
       "  {'Title': 'I Tried Beating the Hardest Pokemon Game. It took a while...',\n",
       "   'Views': '868429',\n",
       "   'Likes': '29761',\n",
       "   'Comments': '632'},\n",
       "  {'Title': 'Can I Score Against a D1 Basketball Player?',\n",
       "   'Views': '290876',\n",
       "   'Likes': '20308',\n",
       "   'Comments': '141'},\n",
       "  {'Title': 'I Let My Chat Decorate My Room. $15,000 Mistake.',\n",
       "   'Views': '1026258',\n",
       "   'Likes': '42277',\n",
       "   'Comments': '875'},\n",
       "  {'Title': 'I got roasted so hard I changed my name',\n",
       "   'Views': '1036828',\n",
       "   'Likes': '93787',\n",
       "   'Comments': '269'},\n",
       "  {'Title': 'Can I Beat a Child Prodigy at Basketball?',\n",
       "   'Views': '995514',\n",
       "   'Likes': '50080',\n",
       "   'Comments': '1812'}]}"
      ]
     },
     "execution_count": 3,
     "metadata": {},
     "output_type": "execute_result"
    }
   ],
   "source": [
    "# Either set environment key or replace with your own key\n",
    "# YT_API_KEY = ''\n",
    "\n",
    "# Instantiate youtube object from API\n",
    "youtube = build('youtube', 'v3', developerKey=YT_API_KEY)\n",
    "\n",
    "# Main Function for Pulling & Formatting YT Data\n",
    "def get_channel_info(channel_id):\n",
    "    \n",
    "    # Request to YT data API\n",
    "    channel_response = youtube.channels().list(\n",
    "        part='statistics,snippet,topicDetails,brandingSettings,contentDetails',\n",
    "        id=channel_id\n",
    "    ).execute()\n",
    "\n",
    "    # Cutting up the response to process easier\n",
    "    channel = channel_response['items'][0]\n",
    "    statistics = channel['statistics']\n",
    "    snippet = channel['snippet']\n",
    "    topic_details = channel.get('topicDetails', {})\n",
    "    branding = channel['brandingSettings']\n",
    "    uploads_playlist_id = channel['contentDetails']['relatedPlaylists']['uploads']\n",
    "\n",
    "    # Combining Relevant Info Into our own Dict\n",
    "    channel_info = {\n",
    "        \"Channel Title\": snippet['title'],\n",
    "        \"Description\": snippet['description'],\n",
    "        \"Subscribers\": statistics['subscriberCount'],\n",
    "        \"Total Views\": statistics['viewCount'],\n",
    "        \"Total Videos\": statistics['videoCount'],\n",
    "        \"Channel Topics\": topic_details.get('topicCategories', []),\n",
    "        \"Keywords\": branding['channel'].get('keywords', 'N/A'),\n",
    "        \"Recent Videos\": []\n",
    "    }\n",
    "\n",
    "    # Get recent videos\n",
    "    videos = get_recent_videos(uploads_playlist_id)\n",
    "\n",
    "    # Format each video and attach to main channel_info dict\n",
    "    for video in videos:\n",
    "        video_info = {\n",
    "            \"Title\": video['snippet']['title'],\n",
    "            # \"URL\": f\"https://www.youtube.com/watch?v={video['id']}\",\n",
    "            \"Views\": video['statistics']['viewCount'],\n",
    "            \"Likes\": video['statistics']['likeCount'],\n",
    "            \"Comments\": video['statistics']['commentCount'],\n",
    "            # \"Tags\": video['snippet'].get('tags', [])\n",
    "        }\n",
    "        channel_info[\"Recent Videos\"].append(video_info)\n",
    "\n",
    "    return channel_info\n",
    "\n",
    "# Function for grabbing a channel's uploads playlist (YT handles channel uploads as a playlist)\n",
    "def get_recent_videos(playlist_id, max_results=10):\n",
    "    \n",
    "    # Get playlist ID of uploads\n",
    "    playlist_response = youtube.playlistItems().list(\n",
    "        part='snippet',\n",
    "        playlistId=playlist_id,\n",
    "        maxResults=max_results\n",
    "    ).execute()\n",
    "\n",
    "    # Get unique video IDs\n",
    "    video_ids = [item['snippet']['resourceId']['videoId'] for item in playlist_response['items']]\n",
    "\n",
    "    # Grab video details and attach IDs\n",
    "    videos_response = youtube.videos().list(\n",
    "        part='snippet,contentDetails,statistics,topicDetails',\n",
    "        id=','.join(video_ids)\n",
    "    ).execute()\n",
    "\n",
    "    return videos_response['items']\n",
    "\n",
    "# Test this out\n",
    "# Replace with the channel ID you want to analyze\n",
    "channel_info = get_channel_info(\"UCrPseYLGpNygVi34QpGNqpA\")\n",
    "\n",
    "# with open(\"gemma2/channel_info.json\", \"w\") as json_file:\n",
    "#             json.dump(channel_info, json_file, indent=4)\n",
    "\n",
    "# with open(\"gemma2/channel_info.json\", \"r\") as json_file:\n",
    "#     channel_info = json.load(json_file)\n",
    "\n",
    "channel_info"
   ]
  },
  {
   "cell_type": "markdown",
   "id": "971b41ba-801f-4f29-b99a-f90017ae2f75",
   "metadata": {},
   "source": [
    "---\n",
    "# Gemma 2 Prompts\n",
    "\n",
    "Now we'll define the prompts that Gemma 2 will process at each stage, one thing to note is that Gemma 2 is trained with special tokens, so prompts need to follow a specific format so that it doesn't continue endlessly generating, as it expects the prompt in a specific format. Here are the tables from the technical report showing how this is set up:\n",
    "\n",
    "<img src=\"gemma_tokens.png\" width=\"800\" style=\"border: 1px solid black;\">\n",
    "\n",
    "We'll be using LangChain's framework and [Ollama integration](https://python.langchain.com/v0.2/docs/integrations/chat/ollama/) to set this up."
   ]
  },
  {
   "cell_type": "code",
   "execution_count": 4,
   "id": "0c5b7e92-5c86-4e20-8b0b-0627dea436f6",
   "metadata": {},
   "outputs": [],
   "source": [
    "# Defining LLM Objects\n",
    "local_llm = 'gemma2'\n",
    "# Regular model for responses\n",
    "gemma2 = ChatOllama(model=local_llm, temperature=0.7)\n",
    "# JSON mode for structered responses\n",
    "gemma2_json = ChatOllama(model=local_llm, format='json', temperature=0.7)"
   ]
  },
  {
   "cell_type": "markdown",
   "id": "34e83f0f-e53c-450e-99e7-9ced41305eca",
   "metadata": {},
   "source": [
    "### Report Generation Prompt"
   ]
  },
  {
   "cell_type": "code",
   "execution_count": 5,
   "id": "898db5d7-d5eb-4d76-8d46-00390802ac18",
   "metadata": {
    "scrolled": true
   },
   "outputs": [
    {
     "data": {
      "text/markdown": [
       "## Ludwig YouTube Title Analysis Report\n",
       "\n",
       "**Channel Overview:** Ludwig is a popular gaming and variety streamer with a subscriber count of 5.91 million and over 2.29 billion total views. His channel focuses on action games, role-playing games, and video game culture.\n",
       "\n",
       "**Title Analysis:**\n",
       "\n",
       "Ludwig's YouTube titles are designed to be **click-baity, intriguing, and action-oriented**. They frequently employ the following strategies:\n",
       "\n",
       "* **Exclamation Points:** Titles often end with exclamation points to create a sense of excitement and urgency. Examples: \"MOGUL MONEY LIVE!\", \"🔴 DAY 1 OF BEING ON TIME EVERYDAY IN JULY | VALO IN-HOUSE with friends :)\"\n",
       "* **Direct Address:** Ludwig directly addresses his viewers in many titles, fostering a sense of community and personal connection. Examples: \"🔴 NEW MR BEAST VIDEO | PROVING I AM BETTER AT VIDEO GAMES THAN CHAT\", \"Can I Beat a Child Prodigy at Ping Pong? | Unpaid Intern\"\n",
       "* **Intriguing Questions:** Titles often pose questions that pique viewer curiosity and encourage them to click for answers. Examples: \"I'm NOT the World's Fastest Masher\", \"Can I Score Against a D1 Basketball Player?\"\n",
       "* **Humor and Relatability:** Ludwig incorporates humor and relatable situations into his titles to make them more appealing. Examples: \"I Let My Chat Decorate My Room. $15,000 Mistake.\", \"I got roasted so hard I changed my name\"\n",
       "* **Keywords:** Titles strategically incorporate relevant keywords related to gaming, challenges, and popular personalities like MrBeast.\n",
       "\n",
       "**Additional Observations:**\n",
       "\n",
       "* **Live Streams:** A significant portion of Ludwig's titles indicate live streams, highlighting his active engagement with his audience.\n",
       "* **Variety Content:** While gaming is a core focus, Ludwig's titles also showcase his diverse content, including challenges, collaborations, and personal experiences.\n",
       "* **Branding:** The consistent use of emojis and the \"🔴\" symbol adds a recognizable brand element to his titles.\n",
       "\n",
       "**Imitation Tips:**\n",
       "\n",
       "* **Be Click-Baity:** Craft titles that are attention-grabbing and encourage clicks.\n",
       "* **Engage Your Audience:** Directly address your viewers and create a sense of community.\n",
       "* **Pose Intriguing Questions:** Spark curiosity and encourage viewers to find out more.\n",
       "* **Inject Humor and Relatability:** Make your titles fun and relatable to your target audience.\n",
       "* **Use Keywords Strategically:** Incorporate relevant keywords to improve discoverability.\n",
       "* **Brand Consistency:** Develop a recognizable style and branding for your titles.\n",
       "\n",
       "\n",
       "\n",
       "By analyzing and applying these strategies, aspiring YouTubers can learn from Ludwig's successful approach to title creation and increase their chances of attracting viewers and building a loyal fanbase."
      ],
      "text/plain": [
       "<IPython.core.display.Markdown object>"
      ]
     },
     "metadata": {},
     "output_type": "display_data"
    }
   ],
   "source": [
    "# Generation Prompt\n",
    "analysis_prompt = PromptTemplate(\n",
    "    template=\"\"\"\n",
    "    <bos>\n",
    "    \n",
    "    <start_of_turn>user\n",
    "    \n",
    "    You are an AI assistant for YouTube Analysis Tasks, that reports the main findings of a YouTube data pull. \n",
    "    Your main goal is to analyze how the account formats and creates their youtube titles.\n",
    "    Carefully analyze the YouTube titles and any other useful information, and create a short report that covers\n",
    "    everything one may want to know to imitate their success, be as specific as possible with your analysis.\n",
    "    \n",
    "    --------------\n",
    "    Additional Instructions (if any): {reflection}\n",
    "    --------------\n",
    "    Pulled YouTube Data: {data}\n",
    "    --------------\n",
    "    Begin your response<end_of_turn>\n",
    "    \n",
    "    <start_of_turn>model\"\"\",\n",
    "    input_variables=[\"data\", \"reflection\"],\n",
    ")\n",
    "\n",
    "# Chain\n",
    "analysis_chain = analysis_prompt | gemma2 | StrOutputParser()\n",
    "\n",
    "# Test Run\n",
    "report = analysis_chain.invoke({\"data\": channel_info, \"reflection\": \"\"})\n",
    "display(Markdown(report))"
   ]
  },
  {
   "cell_type": "markdown",
   "id": "61556938-35d0-4acf-95ee-0e5aa3906f97",
   "metadata": {},
   "source": [
    "### Title Generation Prompt"
   ]
  },
  {
   "cell_type": "code",
   "execution_count": 6,
   "id": "e89bb5f0-b1a0-4b38-84bc-32526659b77a",
   "metadata": {},
   "outputs": [
    {
     "data": {
      "text/markdown": [
       "Here are 5 potential YouTube titles about building a YouTube title generator AI agent with reflection using Gemma 2 9b, applying the strategies from Ludwig's report:\n",
       "\n",
       "1. **🔴 Can I Build a YouTube Title Generator with Gemma 2 9B? (AI vs. Humans!)** \n",
       "    * **Explanation:** This title uses the \"🔴\" symbol for live stream indication, directly addresses the audience, and poses a question to spark curiosity. It also highlights the AI vs. human element for added intrigue.\n",
       "\n",
       "2. **Gemma 2 9B: My AI Learns to Write Click-Baity YouTube Titles! (Mind-Blowing Results)**\n",
       "    * **Explanation:** This title uses \"click-baity\" as a keyword, promises \"mind-blowing results,\" and emphasizes the AI's learning process, appealing to viewers interested in AI development.\n",
       "\n",
       "3. **I Trained an AI to Write YouTube Titles... and It's BETTER Than Me! (Gemma 2 9B Challenge)**\n",
       "    * **Explanation:** This title uses humor and a bold claim (\"better than me\") to grab attention. It also incorporates the \"challenge\" element popular in gaming and tech content.\n",
       "\n",
       "4. **YouTube Title Secrets REVEALED! Gemma 2 9B Shows How It's Done (Data-Driven AI)**\n",
       "    * **Explanation:** This title promises to reveal secrets, uses the keyword \"YouTube Title Secrets,\" and emphasizes the data-driven approach of the AI, appealing to viewers seeking practical knowledge.\n",
       "\n",
       "5. **Building a YouTube Title Generator with Gemma 2 9B: A Step-by-Step Guide (Reflection & Analysis)**\n",
       "    * **Explanation:** This title is more informative and targets viewers seeking a tutorial. It clearly outlines the project and includes keywords like \"step-by-step guide,\" \"reflection,\" and \"analysis.\"\n",
       "\n",
       "\n",
       "\n"
      ],
      "text/plain": [
       "<IPython.core.display.Markdown object>"
      ]
     },
     "metadata": {},
     "output_type": "display_data"
    }
   ],
   "source": [
    "# Reccomendation Prompt\n",
    "reccomendation_prompt = PromptTemplate(\n",
    "    template=\"\"\"\n",
    "    <bos>\n",
    "    \n",
    "    <start_of_turn>user\n",
    "    \n",
    "    You are an AI assistant for applying YouTube Analysis reports to create new YouTube Titles, \n",
    "    Your coworker has created a report that analyzes and creates suggestions for creating new YouTube titles. \n",
    "    Your goal now is to apply these learnings to craft potential youtube titles about a new topic.\n",
    "    Carefully analyze the report and apply the learned techniques to generate 5 new titles on the new topic.\n",
    "    Ensure that you are directly applying the techniques outlined in the data report to your generation.\n",
    "    Add a short explanation as to how each generated title follows the report findings. List in markdown format.\n",
    "    --------------\n",
    "    Additional Instructions (if any): {reflection}\n",
    "    --------------\n",
    "    YouTube Data Report: {report}\n",
    "    --------------\n",
    "    New Topic: {new_topic}\n",
    "    --------------\n",
    "    \n",
    "    If additional instructions are present, then this is a revision step. \n",
    "    You are to follow the instructions to improve upon your prior generation that will be listed with the additional instructions.\n",
    "    \n",
    "    Begin your response<end_of_turn>\n",
    "    <start_of_turn>model\"\"\",\n",
    "    input_variables=[\"report\", \"new_topic\", \"reflection\"],\n",
    ")\n",
    "\n",
    "# Chain\n",
    "reccomendation_chain = reccomendation_prompt | gemma2 | StrOutputParser()\n",
    "\n",
    "# # Test Run\n",
    "topic = \"Building a YouTube title generator AI agent with reflection using the new LLM from google, Gemma 2 9b\"\n",
    "reccomendation = reccomendation_chain.invoke({\"report\": report, \"new_topic\": topic, \"reflection\": \"\"})\n",
    "display(Markdown(reccomendation))"
   ]
  },
  {
   "cell_type": "markdown",
   "id": "523f101c-6df6-4c7a-b6e3-6c5408655d35",
   "metadata": {},
   "source": [
    "### Reflection Step Prompt"
   ]
  },
  {
   "cell_type": "code",
   "execution_count": 7,
   "id": "88f543e5-198d-4b47-b55b-bb6897807a75",
   "metadata": {},
   "outputs": [
    {
     "data": {
      "text/plain": [
       "{'verdict': 'approve', 'instructions': ''}"
      ]
     },
     "execution_count": 7,
     "metadata": {},
     "output_type": "execute_result"
    }
   ],
   "source": [
    "# Reflection Prompt\n",
    "reflection_prompt = PromptTemplate(\n",
    "    template=\"\"\"\n",
    "    <bos>\n",
    "    \n",
    "    <start_of_turn>user\n",
    "\n",
    "    You are an AI assistant verifying and validating the current analysis workflow to ensure that ideas are applied and unique.\n",
    "    The current project is to analyze a YouTube channel, create a report about the video titles, and apply the learnings to create titles for a new topic.\n",
    "    Your task is to verify that these steps have been completed and are of high quality. \n",
    "    Observe what's been written, and either approve or deny. Provide any additional instructions for what may be necessary to fix if denied.\n",
    "\n",
    "    Work to analyze from the {task} step: \n",
    "    ---------------\n",
    "    {candidate}\n",
    "    ---------------\n",
    "    Context (if any) for what generation is based on:\n",
    "    ---------------\n",
    "    {context}\n",
    "    ---------------\n",
    "    \n",
    "    Return your answer in JSON format, with no preamble or explanation, as such: \"verdict\": \"approve/deny\", \"instructions\": \"further instructions\"\n",
    "\n",
    "    Begin your response<end_of_turn>\n",
    "    <start_of_turn>model\"\"\",\n",
    "    input_variables=[\"task\", \"candidate\", \"context\"],\n",
    ")\n",
    "\n",
    "# Chain\n",
    "reflection_chain = reflection_prompt | gemma2_json | JsonOutputParser()\n",
    "\n",
    "# Test Run\n",
    "reflection = reflection_chain.invoke({\"task\": \"title generation\", \"candidate\": reccomendation, \"context\": report})\n",
    "reflection"
   ]
  },
  {
   "cell_type": "markdown",
   "id": "4dec217d-a6ec-4467-86d5-5059b8eb94bf",
   "metadata": {},
   "source": [
    "---\n",
    "# LangGraph Setup\n",
    "\n",
    "To automate our LLM operations and create this *agentic* workflow, we'll be using [LangGraph](https://langchain-ai.github.io/langgraph/)! \n",
    "\n",
    "From their website, LangGraph is *\"a library for building stateful, multi-actor applications with LLMs, used to create agent and multi-agent workflows. Compared to other LLM frameworks, it offers these core benefits: cycles, controllability, and persistence. LangGraph allows you to define flows that involve cycles, essential for most agentic architectures, differentiating it from DAG-based solutions\"*\n",
    "\n",
    "In simpler terms, LangGraph let's us pass all data along a set graph (see diagram at the top of the notebook), where we can use, update, or change our pathing depending on the saved values in that data. This might be kinda confusing, but seeing how this works in practice below should help clear things up!"
   ]
  },
  {
   "cell_type": "markdown",
   "id": "d2b0e76e-94d2-4de5-bac8-1e90ef789c03",
   "metadata": {},
   "source": [
    "## Defining the Main State\n",
    "\n",
    "The state is the \"container\" that will hold all of our necessary data as it goes along the whole agentic journey, this one below has 6 values that will be pulled or updated at different stages:\n",
    "1. **task** - tracks the current task that is happening\n",
    "2. **new_topic** - holds what our new topic for generating titles will be\n",
    "3. **youtube_data** - holds all of the information that we pulled from the YouTube data API\n",
    "4. **generated_report** - holds the generated report from Gemma after it is generated\n",
    "5. **generated_titles** - holds the generated titles from Gemma after they are generated\n",
    "6. **reflection** - Holds the dictionary from the reflection step that contains the verdict and any additional instructions\n",
    "\n",
    "These fields will be pulled from for processing and updated dynamically at each step along the way"
   ]
  },
  {
   "cell_type": "code",
   "execution_count": 8,
   "id": "5e9816cf-dbe3-4a65-a812-16d044fa2341",
   "metadata": {},
   "outputs": [],
   "source": [
    "# Main State\n",
    "class GraphState(TypedDict):\n",
    "    \"\"\"\n",
    "    Represents the state of our YouTube Agent graph.\n",
    "\n",
    "    Attributes:\n",
    "        task: Current task being executed\n",
    "        new_topic: Topic for generation to be applied to\n",
    "        youtube_data: Pulled youtube data from API\n",
    "        generated_report: LLM generated Analysis Report\n",
    "        generated_titles: LLM generated Titles\n",
    "        reflection: LLM reflection step\n",
    "    \"\"\"\n",
    "    task : str\n",
    "    new_topic: str\n",
    "    youtube_data: str\n",
    "    generated_report: str\n",
    "    generated_titles: str\n",
    "    reflection: dict"
   ]
  },
  {
   "cell_type": "markdown",
   "id": "b9234746-f926-4cbc-90ea-a7e918995faa",
   "metadata": {},
   "source": [
    "## Defining the Nodes\n",
    "\n",
    "The nodes are the preset steps at which our above state will be passed through and undergo some sort of processing + update. We define four below:"
   ]
  },
  {
   "cell_type": "markdown",
   "id": "40465035-81c9-43d2-9b64-23da2564f404",
   "metadata": {},
   "source": [
    "### Node 1: Getting YouTube Channel Details\n",
    "\n",
    "This will be our entry point (defined later), where we will ask for input on a channel ID for analysis, and a new topic to apply our research to.\n",
    "\n",
    "It takes these two inputs, calls the channel info function, and returns the data back to the state, updating the **youtube_data**, and **new_topic** fields. \n",
    "\n",
    "Additionally, we manually update the current **task** field to *initiate*, and input a blank placeholder into the **reflection** field, so that before we do any reflection our initial steps will not throw any errors due to missing values."
   ]
  },
  {
   "cell_type": "code",
   "execution_count": 9,
   "id": "48a19185-3075-4fa1-af66-e8e9c4bd0830",
   "metadata": {},
   "outputs": [],
   "source": [
    "# Node - Getting YouTube Channel Details\n",
    "\n",
    "def get_yt_details(state):\n",
    "    \"\"\"\n",
    "    Instantiate's graph and grabs channel report from YouTube API and append to graph state.\n",
    "    \n",
    "    Returns:\n",
    "        Instantiates blank reflection for initial run,\n",
    "        Appends pulled youtube data to youtube_data,\n",
    "        Appends new topic to new_topic,\n",
    "        Logs current task.\n",
    "    \"\"\"\n",
    "\n",
    "    # Instantiate the reflection as blank\n",
    "    # Handles first run, where report and title generation prompt expect some value for additional instructions if necessary\n",
    "    reflection = {'verdict': '', 'instructions': ''}\n",
    "    \n",
    "    channel_id = input(\"Input Channel ID: \")\n",
    "    new_topic = input(\"What topic are you applying this analysis to? \")\n",
    "    channel_info = get_channel_info(channel_id)\n",
    "\n",
    "    print(\"Channel & Video Details Pulled\")\n",
    "    \n",
    "    return {\"youtube_data\": channel_info, \"reflection\": reflection, \"new_topic\": new_topic, \"task\": \"initiate\"}"
   ]
  },
  {
   "cell_type": "markdown",
   "id": "405bffed-c1ce-473a-9bc5-c0a3a4c3c68d",
   "metadata": {},
   "source": [
    "### Node 2: Generating a Report From the YouTube Data\n",
    "\n",
    "This will take in the state, and grab the YouTube data that we just acquired our previous API call from the **youtube_data** field, and run it through our analysis report chain. The generated report will then populate the **generated_report** field in our state.\n",
    "\n",
    "Additionally, we have some handling for the reflection instructions if it has been kicked back to this state, grabbing the instructions from the **reflection** field in our state and passing them along to the prompt."
   ]
  },
  {
   "cell_type": "code",
   "execution_count": 10,
   "id": "68943746-9e4a-467f-b981-85a9b05371fc",
   "metadata": {},
   "outputs": [],
   "source": [
    "# Node - Generate a Report From YouTube Data\n",
    "\n",
    "def gen_report(state):\n",
    "    \"\"\"\n",
    "    Generate the analysis report based on the YouTube channel details.\n",
    "\n",
    "    Returns:\n",
    "        Appends generated report to generated_report in the graph state,\n",
    "        Logs current task.\n",
    "    \"\"\"\n",
    "    \n",
    "    youtube_data = state[\"youtube_data\"]\n",
    "    reflection_instructions = state[\"reflection\"]['instructions']\n",
    "    \n",
    "    inputs = {\"data\": youtube_data, \"reflection\": reflection_instructions}\n",
    "    report = analysis_chain.invoke(inputs)\n",
    "\n",
    "    print(\"Report Generated\")\n",
    "    \n",
    "    return {\"generated_report\": report, \"task\": \"gen_report\"}"
   ]
  },
  {
   "cell_type": "markdown",
   "id": "4d51705d-73cb-4937-86fc-879bd9b2a357",
   "metadata": {},
   "source": [
    "### Node 3: Generating Titles With the Report\n",
    "\n",
    "This will then handle the title generation step, grabbing the report from the **generated_report** field and the topic from the **new_topic** field, and pass them through the reccomendation chain to generate new titles. This will return the title generation to the **generated_titles** field in our state!\n",
    "\n",
    "Similar to the last node, we also pull the reflection instructions from the **reflection** field to handle if there are any tweaks needed if it gets kicked back to this step from reflection, and to make sure that we're not blindly generating with no ground reference is the reflection denies our pass, we insert the prior generated titles along with the instructions."
   ]
  },
  {
   "cell_type": "code",
   "execution_count": 11,
   "id": "a010276c-025c-4a36-94a5-b79db9d1e90c",
   "metadata": {},
   "outputs": [],
   "source": [
    "# Node - Generate Potential Titles \n",
    "\n",
    "def gen_titles(state):\n",
    "    \"\"\"\n",
    "    Generate potential titles based on report analysis.\n",
    "\n",
    "    Returns:\n",
    "        Appends generated titles to generated_report in the graph state,\n",
    "        Logs current task.\n",
    "    \"\"\"\n",
    "    \n",
    "    generated_report = state[\"generated_report\"]\n",
    "\n",
    "    if state['generated_titles'] is not None:\n",
    "        reflection_instructions = f\"{state['reflection']['instructions']}\\nPrior generated titles: {state['generated_titles']}\"\n",
    "    else:\n",
    "        reflection_instructions = state['reflection']['instructions']\n",
    "\n",
    "    new_topic = state[\"new_topic\"]\n",
    "    \n",
    "    inputs = {\"report\": generated_report, \"new_topic\": new_topic, \"reflection\": reflection_instructions}\n",
    "    generated_titles = reccomendation_chain.invoke(inputs)\n",
    "\n",
    "    print(\"Titles Generated\")\n",
    "    \n",
    "    return {\"generated_titles\": generated_titles, \"task\": \"gen_titles\"}"
   ]
  },
  {
   "cell_type": "markdown",
   "id": "c205a351-52ce-47bd-80c9-e6b792b132b1",
   "metadata": {},
   "source": [
    "### Node 4: Reflection 🤔\n",
    "\n",
    "This node will handle both of our reflection steps, taking in the current **task** from the state task field to determine whether we're reflecting on report generation or title generation. Depending on which one it is, either the report from the **generated_report** field of the titles from the **generated_titles** field will be grabbed and passed through the reflection chain. \n",
    "\n",
    "As we defined in our prompt, the reflection chain will return a dictionary of a verdict and any additional instructions, updating the **reflection** field of our state."
   ]
  },
  {
   "cell_type": "code",
   "execution_count": 12,
   "id": "88fc35c9-775c-47c8-b7e7-c978e4a72791",
   "metadata": {},
   "outputs": [],
   "source": [
    "# Node - Reflections \n",
    "\n",
    "def reflect(state):\n",
    "    \"\"\"\n",
    "    Reflection and verification of different steps during the process.\n",
    "\n",
    "    Returns:\n",
    "        Verdict of whether generation was adequate,\n",
    "        Additional instructions,\n",
    "        Logs current task.\n",
    "    \"\"\"\n",
    "\n",
    "    task = state[\"task\"]\n",
    "    topic = state[\"new_topic\"]\n",
    "\n",
    "    if task == \"gen_report\":\n",
    "        generated_report = state[\"generated_report\"]\n",
    "        inputs = {\"task\": \"YouTube Report Generation\", \"candidate\": generated_report, \"context\": \"None\"}\n",
    "        reflection = reflection_chain.invoke(inputs)\n",
    "    elif task == \"gen_titles\":\n",
    "        generated_titles = state[\"generated_titles\"]\n",
    "        context = state[\"generated_report\"]\n",
    "        inputs = {\"task\": f\"Applying YouTube report findings to Title Generation about {topic}\", \"candidate\": generated_titles, \"context\": context}\n",
    "        reflection = reflection_chain.invoke(inputs)\n",
    "\n",
    "    print(f\"Reflected on {task}, verdict: {reflection['verdict']}, additional instructions: {reflection['instructions']}\")\n",
    "    \n",
    "    return {\"reflection\": reflection}"
   ]
  },
  {
   "cell_type": "markdown",
   "id": "4e5a6bb7-f49f-460e-937e-8e34a622c33f",
   "metadata": {},
   "source": [
    "### Reflection Logic - Conditional Edge\n",
    "\n",
    "One of the quirks of LangGraph is that the routing logic when we get to actually building the graph cannot be solely determined from a node output, it must have an intermediary function that handles the logic to return which node to head to next. \n",
    "\n",
    "This will make more sense when we actually build the graph itself, but this below function will handle whether to route our reflection output back to the report generation step or the title generation step.\n",
    "\n",
    "It takes in the verdict from the **reflection** field of the state, and the task from the **task** field of the state (either report generation, or title generation), and will either pass that the report has been approved or denied, or that the titles have been approved or denied. The routing is then handled from this output as a conditional edge in the graph building stage below."
   ]
  },
  {
   "cell_type": "code",
   "execution_count": 13,
   "id": "24ae8b3a-0f08-4691-8053-2a90fb0e27b5",
   "metadata": {},
   "outputs": [],
   "source": [
    "# Conditional Edge - Routing Based on Reflection\n",
    "\n",
    "def verdict_logic(state):\n",
    "    \"\"\"\n",
    "    route question either next or back based on reflection.\n",
    "\n",
    "    Returns:\n",
    "        Next node to call\n",
    "    \"\"\"\n",
    "\n",
    "    verdict = state['reflection']['verdict']\n",
    "    task = state[\"task\"]\n",
    "    \n",
    "    if task == \"gen_report\":\n",
    "        if verdict == \"approve\":\n",
    "            return \"approve_report\"\n",
    "        elif verdict == \"deny\":\n",
    "            return \"deny_report\"\n",
    "            \n",
    "    elif task == \"gen_titles\":\n",
    "        if verdict == \"approve\":\n",
    "            return \"approve_titles\"\n",
    "        elif verdict == \"deny\":\n",
    "            return \"deny_titles\""
   ]
  },
  {
   "cell_type": "markdown",
   "id": "10ca55b3-1348-4806-b1fd-341b9a7741db",
   "metadata": {},
   "source": [
    "---\n",
    "# Putting the LangGraph Graph Together\n",
    "\n",
    "Now that we have our nodes defined, we have to build the graph up!\n",
    "\n",
    "**This involves:**\n",
    "1. Adding the nodes to the workflow\n",
    "2. Defining the entry point\n",
    "3. Connecting the nodes together\n",
    "   1. Either through direct connections - edges\n",
    "   2. Or through seperate logic - conditional edges\n",
    "4. Compiling the graph into a final agent!\n",
    "\n",
    "We want the flow do go something like: \n",
    "\n",
    "Grab youtube details -> generate a report -> Reflect on report: If denied, back to generate, if approved -> generate titles with report -> reflect on generated titles: If denied, back to generate, if approved -> end and display to the user."
   ]
  },
  {
   "cell_type": "code",
   "execution_count": 14,
   "id": "fca81e64-7aac-4e92-8bf0-ee90356a9ebf",
   "metadata": {},
   "outputs": [],
   "source": [
    "# Creating a helper object to build the graph\n",
    "workflow = StateGraph(GraphState)\n",
    "\n",
    "# Adding all of the nodes to the graph, and which node function they correspond to\n",
    "workflow.add_node(\"get_yt_details\", get_yt_details)\n",
    "workflow.add_node(\"gen_report\", gen_report)\n",
    "workflow.add_node(\"gen_titles\", gen_titles)\n",
    "workflow.add_node(\"reflect\", reflect)\n",
    "\n",
    "# Defining our starting point\n",
    "workflow.set_entry_point(\"get_yt_details\")\n",
    "\n",
    "# Connecting our Nodes together\n",
    "workflow.add_edge(\"get_yt_details\", \"gen_report\")\n",
    "workflow.add_edge(\"gen_report\", \"reflect\")\n",
    "workflow.add_edge(\"gen_titles\", \"reflect\")\n",
    "\n",
    "# Using the verdict_logic function to handle conditional connections from the reflection step\n",
    "workflow.add_conditional_edges(\"reflect\", \n",
    "                             verdict_logic,\n",
    "                             {\n",
    "                                 \"approve_report\": \"gen_titles\",\n",
    "                                 \"deny_report\": \"gen_report\",\n",
    "                                 \"approve_titles\": END,\n",
    "                                 \"deny_titles\": \"gen_titles\",\n",
    "                             })\n",
    "\n",
    "# Putting it all together!\n",
    "yt_agent = workflow.compile()"
   ]
  },
  {
   "cell_type": "markdown",
   "id": "ca2890a7-a50d-4b63-90be-0c35a9f68da2",
   "metadata": {},
   "source": [
    "### Different Visualization\n",
    "\n",
    "We can use IPython to generate a mermaid chart from the graph, and see exactly what's going on behind the scenes here"
   ]
  },
  {
   "cell_type": "code",
   "execution_count": 15,
   "id": "6047ac9e-b885-4868-96c5-49ba114a5ad7",
   "metadata": {},
   "outputs": [
    {
     "data": {
      "image/jpeg": "[encoded data removed]",
      "text/plain": [
       "<IPython.core.display.Image object>"
      ]
     },
     "metadata": {},
     "output_type": "display_data"
    }
   ],
   "source": [
    "# Mermaid chart\n",
    "display(Image(yt_agent.get_graph(xray=True).draw_mermaid_png()))"
   ]
  },
  {
   "cell_type": "markdown",
   "id": "1841630c-68cb-406e-bb6f-bceb222f30fa",
   "metadata": {},
   "source": [
    "---\n",
    "# Running the Agent\n",
    "\n",
    "Now that it's all compiled and together, time to test it out!\n",
    "\n",
    "As our YouTube API function takes the channel ID (found in channel about section), here are some starting examples I gathered:\n",
    "\n",
    "<!DOCTYPE html>\n",
    "<html>\n",
    "<head>\n",
    "    <style>\n",
    "        .left-align {\n",
    "            float: left;\n",
    "        }\n",
    "        table {\n",
    "            border-collapse: collapse;\n",
    "            width: 50%;\n",
    "        }\n",
    "        th, td {\n",
    "            border: 1px solid black;\n",
    "            padding: 8px;\n",
    "            text-align: left;\n",
    "        }\n",
    "        th {\n",
    "            background-color: #f2f2f2;\n",
    "        }\n",
    "    </style>\n",
    "</head>\n",
    "<body>\n",
    "\n",
    "<div class=\"left-align\">\n",
    "    <table>\n",
    "        <tr>\n",
    "            <th>YouTuber</th>\n",
    "            <th>Channel ID</th>\n",
    "        </tr>\n",
    "        <tr>\n",
    "            <td><a href=\"https://www.youtube.com/channel/UCy6rH4hKHMLdd5s-FUrto7Q\" target=\"_blank\">Adam Lucek</a></td>\n",
    "            <td>UCy6rH4hKHMLdd5s-FUrto7Q</td>\n",
    "        </tr>\n",
    "        <tr>\n",
    "            <td><a href=\"https://www.youtube.com/channel/UCrPseYLGpNygVi34QpGNqpA\" target=\"_blank\">Ludwig Ahgren</a></td>\n",
    "            <td>UCrPseYLGpNygVi34QpGNqpA</td>\n",
    "        </tr>\n",
    "        <tr>\n",
    "            <td><a href=\"https://www.youtube.com/channel/UCX6OQ3DkcsbYNE6H8uQQuVA\" target=\"_blank\">Mr Beast</a></td>\n",
    "            <td>UCX6OQ3DkcsbYNE6H8uQQuVA</td>\n",
    "        </tr>\n",
    "        <tr>\n",
    "            <td><a href=\"https://www.youtube.com/channel/UCHnyfMqiRRG1u-2MsSQLbXA\" target=\"_blank\">Veritasium</a></td>\n",
    "            <td>UCHnyfMqiRRG1u-2MsSQLbXA</td>\n",
    "        </tr>\n",
    "        <tr>\n",
    "            <td><a href=\"https://www.youtube.com/channel/UCXuqSBlHAE6Xw-yeJA0Tunw\" target=\"_blank\">Linus Tech Tips</a></td>\n",
    "            <td>UCXuqSBlHAE6Xw-yeJA0Tunw</td>\n",
    "        </tr>\n",
    "        <tr>\n",
    "            <td><a href=\"https://www.youtube.com/channel/UCsBjURrPoezykLs9EqgamOA\" target=\"_blank\">Fireship</a></td>\n",
    "            <td>UCsBjURrPoezykLs9EqgamOA</td>\n",
    "        </tr>\n",
    "        <tr>\n",
    "            <td><a href=\"https://www.youtube.com/channel/UCBJycsmduvYEL83R_U4JriQ\" target=\"_blank\">MKBHD</a></td>\n",
    "            <td>UCBJycsmduvYEL83R_U4JriQ</td>\n",
    "        </tr>\n",
    "        <tr>\n",
    "            <td><a href=\"https://www.youtube.com/channel/UCJHA_jMfCvEnv-3kRjTCQXw\" target=\"_blank\">Babish Culinary Universe</a></td>\n",
    "            <td>UCJHA_jMfCvEnv-3kRjTCQXw</td>\n",
    "        </tr>\n",
    "        <tr>\n",
    "            <td><a href=\"https://www.youtube.com/channel/UCiDJtJKMICpb9B1qf7qjEOA\" target=\"_blank\">Tested</a></td>\n",
    "            <td>UCiDJtJKMICpb9B1qf7qjEOA</td>\n",
    "        </tr>\n",
    "        <tr>\n",
    "            <td><a href=\"https://www.youtube.com/channel/UC-lHJZR3Gqxm24_Vd_AJ5Yw\" target=\"_blank\">PewDiePie</a></td>\n",
    "            <td>UC-lHJZR3Gqxm24_Vd_AJ5Yw</td>\n",
    "        </tr>\n",
    "    </table>\n",
    "</div>\n",
    "\n",
    "</body>\n",
    "</html>\n"
   ]
  },
  {
   "cell_type": "markdown",
   "id": "0d0e1cac-35fb-4da8-9acf-adde2aba5858",
   "metadata": {},
   "source": [
    "### Optionally Use LangSmith for Tracing\n",
    "\n",
    "Since we're using LangChain's offerings, they integrate very well with the [LangSmith](https://www.langchain.com/langsmith) tracing service. Set your LangChain API, Tracing, and Project environment variables to enable"
   ]
  },
  {
   "cell_type": "code",
   "execution_count": 17,
   "id": "0e010e3c-210e-422f-9a45-ea793b79a590",
   "metadata": {},
   "outputs": [],
   "source": [
    "# Optional LangSmith Tracing\n",
    "os.environ['LANGCHAIN_TRACING_V2'] = 'true'\n",
    "os.environ[\"LANGCHAIN_PROJECT\"] = \"Gemma 2 - YT Agent\""
   ]
  },
  {
   "cell_type": "markdown",
   "id": "5e1c443b-be90-4ad0-a9db-8036d85cdd7f",
   "metadata": {},
   "source": [
    "### Main Script"
   ]
  },
  {
   "cell_type": "code",
   "execution_count": 18,
   "id": "5d1370f1-e010-458a-9dc6-55b0eed50523",
   "metadata": {},
   "outputs": [
    {
     "name": "stdin",
     "output_type": "stream",
     "text": [
      "Input Channel ID:  UCXuqSBlHAE6Xw-yeJA0Tunw\n",
      "What topic are you applying this analysis to?  Building a YouTube title generator AI agent with reflection using the new LLM from google, Gemma 2 9b\n"
     ]
    },
    {
     "name": "stdout",
     "output_type": "stream",
     "text": [
      "Channel & Video Details Pulled\n",
      "Report Generated\n",
      "Reflected on gen_report, verdict: approve, additional instructions: \n",
      "Titles Generated\n",
      "Reflected on gen_titles, verdict: approve, additional instructions: \n"
     ]
    },
    {
     "data": {
      "text/markdown": [
       "# Gemma 2 9B YouTube Title Agent"
      ],
      "text/plain": [
       "<IPython.core.display.Markdown object>"
      ]
     },
     "metadata": {},
     "output_type": "display_data"
    },
    {
     "data": {
      "text/markdown": [
       "---"
      ],
      "text/plain": [
       "<IPython.core.display.Markdown object>"
      ]
     },
     "metadata": {},
     "output_type": "display_data"
    },
    {
     "data": {
      "text/markdown": [
       "## Linus Tech Tips YouTube Title Analysis Report \n",
       "\n",
       "**Objective:**  To analyze the YouTube title formatting and content used by Linus Tech Tips to understand their success and provide actionable insights for imitation.\n",
       "\n",
       "**Data Source:**  Provided YouTube data for Linus Tech Tips, including recent video titles, views, likes, and comments.\n",
       "\n",
       "**Key Findings:**\n",
       "\n",
       "* **Intrigue & Clickbait:** Linus Tech Tips excels at crafting titles that pique curiosity and encourage clicks. They often use phrases like:\n",
       "    * \"The Truth about...\"\n",
       "    * \"It's Time to End...\"\n",
       "    * \"I Bought...\"\n",
       "    * \"Why did you make me build this?\"\n",
       "    * \"Is Future Proofing Your PC Build Stupid?\"\n",
       "* **Bold Statements:**  They aren't afraid to make strong claims or take controversial stances, which can generate discussion and engagement. Examples include \"I Bought 25 Million Computer Viruses\" and \"My Wifi is Better than Yours.\"\n",
       "* **Humor & Personality:** Many titles incorporate humor or playful language, reflecting the channel's lighthearted and entertaining tone. \"First Person That Says Hi Gets Free PC\" and \"Tech Experts React to Bad & Great Tech in TV Crime Shows ep2\" are examples.\n",
       "* **Keyword Relevance:** Titles consistently incorporate relevant keywords related to technology, gaming, and hardware, likely aiding in search engine optimization (SEO). Examples include \"Unboxing Review Computer Hardware Motherboard Intel AMD NVIDIA gaming\" mentioned in the data.\n",
       "* **Call to Action (Implicit):** While not always explicit, titles often imply a call to action, encouraging viewers to watch the video to learn more or discover the outcome.\n",
       "\n",
       "**Recommendations for Imitation:**\n",
       "\n",
       "1. **Craft Intriguing & Clickbaity Titles:**  Start with a hook that immediately grabs attention and makes viewers want to know more.\n",
       "2. **Don't Be Afraid to Be Bold:** Take a stance, make a claim, or present a unique perspective to stand out from the crowd.\n",
       "3. **Inject Humor & Personality:**  Let your unique voice shine through in your titles to create a more engaging and memorable experience.\n",
       "4. **Optimize for Keywords:**  Research relevant keywords in your niche and incorporate them naturally into your titles.\n",
       "5. **Create a Sense of Urgency or Curiosity:**  Suggest that viewers will miss out on something valuable if they don't watch the video.\n",
       "\n",
       "\n",
       "**Conclusion:**\n",
       "\n",
       "Linus Tech Tips' success is largely due to their ability to craft compelling YouTube titles that are both informative and engaging. By following the recommendations outlined in this report, creators can learn from their strategies and improve their own channel performance.\n",
       "\n",
       "\n"
      ],
      "text/plain": [
       "<IPython.core.display.Markdown object>"
      ]
     },
     "metadata": {},
     "output_type": "display_data"
    },
    {
     "data": {
      "text/markdown": [
       "---"
      ],
      "text/plain": [
       "<IPython.core.display.Markdown object>"
      ]
     },
     "metadata": {},
     "output_type": "display_data"
    },
    {
     "data": {
      "text/markdown": [
       "## Generated Titles"
      ],
      "text/plain": [
       "<IPython.core.display.Markdown object>"
      ]
     },
     "metadata": {},
     "output_type": "display_data"
    },
    {
     "data": {
      "text/markdown": [
       "Here are 5 potential YouTube titles about building a YouTube title generator AI agent with reflection using Gemma 2 9b, applying the techniques from the Linus Tech Tips report:\n",
       "\n",
       "1. **\"I Built a YouTube Title Generator AI... and It's INSANE!\"**  \n",
       "    * **Explanation:** This title uses the \"I Built...\" hook, promises an insane result, and implies a sense of wonder and excitement, encouraging clicks.\n",
       "\n",
       "2. **\"Gemma 2 9b: Can This AI Write YouTube Titles BETTER Than Humans?\"** \n",
       "    * **Explanation:** This title poses a bold question, sparking curiosity and debate. It also incorporates the relevant keyword \"Gemma 2 9b\" and hints at a comparison, creating intrigue.\n",
       "\n",
       "3. **\"YouTube Title Secrets REVEALED! My AI Learns to Write Clickbait Like a PRO\"**\n",
       "    * **Explanation:** This title uses the \"Secrets REVEALED\" hook and promises valuable insights. It also incorporates the keywords \"YouTube Title Secrets\" and \"Clickbait,\" appealing to creators seeking optimization tips.\n",
       "\n",
       "4. **\"Why YouTube AI Title Generators are the FUTURE (and How to Build One Yourself)\"**\n",
       "    * **Explanation:** This title takes a forward-looking stance, claiming AI title generators are the future, which is likely to attract viewers interested in staying ahead of the curve. It also offers a practical takeaway (\"How to Build One Yourself\").\n",
       "\n",
       "5. **\"Gemma 2 9b: My AI Writes YouTube Titles... and It's Hilariously BAD!\"**\n",
       "    * **Explanation:** This title uses humor and self-deprecation to grab attention. It implies that the AI's attempts might be funny, creating a lighthearted and entertaining tone.\n",
       "\n",
       "\n",
       "\n"
      ],
      "text/plain": [
       "<IPython.core.display.Markdown object>"
      ]
     },
     "metadata": {},
     "output_type": "display_data"
    }
   ],
   "source": [
    "# New Topic Idea: Building a YouTube title generator AI agent with reflection using the new LLM from google, Gemma 2 9b\n",
    "\n",
    "output = yt_agent.invoke({})\n",
    "\n",
    "# Pretty Display of Generated Messages\n",
    "display(Markdown(\"# Gemma 2 9B YouTube Title Agent\"))\n",
    "display(Markdown(\"---\"))\n",
    "display(Markdown(output[\"generated_report\"]))\n",
    "display(Markdown(\"---\"))\n",
    "display(Markdown(\"## Generated Titles\"))\n",
    "display(Markdown(output[\"generated_titles\"]))"
   ]
  },
  {
   "cell_type": "markdown",
   "id": "49d1eb36-4b34-44e9-8cbc-287b8e328ace",
   "metadata": {},
   "source": [
    "---\n",
    "## Thoughts\n",
    "\n",
    "**Analysis**\n",
    "- Very decent analysis for a 9B paramter model. Picks up on nuances categorical groupings, able to synthesize well with examples. Impressive to see!\n",
    "\n",
    "**Generation**\n",
    "- Still feel like the novel generation trends towards the generic \"ai\" generations I've seen, lots of Part A: Part B\n",
    "- Before adding explanations to title, reflection step would loop until it got back to generic looking titles.\n",
    "\n",
    "**Context stuffing is iffy**\n",
    "- specifically ran into the issue with reflection, trying to maintain the original prompt but not get lost in the context, hence why we only insert context for title generation step"
   ]
  }
 ],
 "metadata": {
  "kernelspec": {
   "display_name": "Python 3 (ipykernel)",
   "language": "python",
   "name": "python3"
  },
  "language_info": {
   "codemirror_mode": {
    "name": "ipython",
    "version": 3
   },
   "file_extension": ".py",
   "mimetype": "text/x-python",
   "name": "python",
   "nbconvert_exporter": "python",
   "pygments_lexer": "ipython3",
   "version": "3.12.1"
  }
 },
 "nbformat": 4,
 "nbformat_minor": 5
}
